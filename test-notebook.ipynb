{
 "cells": [
  {
   "cell_type": "code",
   "execution_count": 2,
   "metadata": {
    "collapsed": true,
    "pycharm": {
     "is_executing": false
    }
   },
   "outputs": [],
   "source": [
    "import pandas as pd\n",
    "import pyodbc as odbc"
   ]
  },
  {
   "cell_type": "code",
   "execution_count": null,
   "outputs": [],
   "source": [
    "sql_conn = odbc.connect('DRIVER={ODBC Driver 17 for SQL Server};SERVER=192.168.10.9;DATABASE=ERSLive;UID=erslive;PWD=Abcd1234;')"
   ],
   "metadata": {
    "collapsed": false,
    "pycharm": {
     "name": "#%%\n"
    }
   }
  },
  {
   "cell_type": "code",
   "execution_count": 8,
   "outputs": [],
   "source": [
    "query = \"select top 10 * from sale_order\""
   ],
   "metadata": {
    "collapsed": false,
    "pycharm": {
     "name": "#%%\n",
     "is_executing": false
    }
   }
  },
  {
   "cell_type": "code",
   "execution_count": 9,
   "outputs": [],
   "source": [
    "df = pd.read_sql(query, sql_conn)"
   ],
   "metadata": {
    "collapsed": false,
    "pycharm": {
     "name": "#%%\n",
     "is_executing": false
    }
   }
  },
  {
   "cell_type": "code",
   "execution_count": 10,
   "outputs": [
    {
     "data": {
      "text/plain": "         id create_uid             create_date              write_date  \\\n0  83259380       None  07/09/2014 04:37:27 AM  03/08/2016 01:09:15 PM   \n1  89019830       None  10/29/2014 08:42:26 PM  09/17/2016 10:11:39 AM   \n2  90792400       None  12/04/2014 07:23:45 AM  07/12/2016 07:01:42 AM   \n3  94735450       None  03/06/2015 04:17:56 AM  01/21/2016 04:55:22 PM   \n4  95104280       None  03/16/2015 03:54:00 PM  05/17/2016 11:37:59 AM   \n\n  write_uid origin picking_policy order_policy  shop_id client_order_ref  ...  \\\n0      None   None         direct       manual       45             None  ...   \n1      None   None         direct       manual       45             None  ...   \n2      None   None         direct       manual       31             None  ...   \n3      None   None         direct       manual        7             None  ...   \n4      None   None         direct       manual       45             None  ...   \n\n  credit_total  commission_date backdate og_sale_currency_code  \\\n0          0.0             None     None                   NGN   \n1          0.0             None     None                   NGN   \n2          0.0             None     None                   THB   \n3          0.0             None     None                   USD   \n4          0.0             None     None                   NGN   \n\n   entry_operator payment_method_id  warehouse_id  purchasing_distributor_id  \\\n0            None               118       1000023                10001438502   \n1         1795042               116       1000023                10001590056   \n2         1966448                81       1000017                10001621954   \n3            None                 5       1000010                10000718547   \n4            None               118       1000023                10001596200   \n\n  autoship_id  shipping_method_id  \n0        None                None  \n1        None                None  \n2        None                None  \n3        None                None  \n4        None                None  \n\n[5 rows x 48 columns]",
      "text/html": "<div>\n<style scoped>\n    .dataframe tbody tr th:only-of-type {\n        vertical-align: middle;\n    }\n\n    .dataframe tbody tr th {\n        vertical-align: top;\n    }\n\n    .dataframe thead th {\n        text-align: right;\n    }\n</style>\n<table border=\"1\" class=\"dataframe\">\n  <thead>\n    <tr style=\"text-align: right;\">\n      <th></th>\n      <th>id</th>\n      <th>create_uid</th>\n      <th>create_date</th>\n      <th>write_date</th>\n      <th>write_uid</th>\n      <th>origin</th>\n      <th>picking_policy</th>\n      <th>order_policy</th>\n      <th>shop_id</th>\n      <th>client_order_ref</th>\n      <th>...</th>\n      <th>credit_total</th>\n      <th>commission_date</th>\n      <th>backdate</th>\n      <th>og_sale_currency_code</th>\n      <th>entry_operator</th>\n      <th>payment_method_id</th>\n      <th>warehouse_id</th>\n      <th>purchasing_distributor_id</th>\n      <th>autoship_id</th>\n      <th>shipping_method_id</th>\n    </tr>\n  </thead>\n  <tbody>\n    <tr>\n      <td>0</td>\n      <td>83259380</td>\n      <td>None</td>\n      <td>07/09/2014 04:37:27 AM</td>\n      <td>03/08/2016 01:09:15 PM</td>\n      <td>None</td>\n      <td>None</td>\n      <td>direct</td>\n      <td>manual</td>\n      <td>45</td>\n      <td>None</td>\n      <td>...</td>\n      <td>0.0</td>\n      <td>None</td>\n      <td>None</td>\n      <td>NGN</td>\n      <td>None</td>\n      <td>118</td>\n      <td>1000023</td>\n      <td>10001438502</td>\n      <td>None</td>\n      <td>None</td>\n    </tr>\n    <tr>\n      <td>1</td>\n      <td>89019830</td>\n      <td>None</td>\n      <td>10/29/2014 08:42:26 PM</td>\n      <td>09/17/2016 10:11:39 AM</td>\n      <td>None</td>\n      <td>None</td>\n      <td>direct</td>\n      <td>manual</td>\n      <td>45</td>\n      <td>None</td>\n      <td>...</td>\n      <td>0.0</td>\n      <td>None</td>\n      <td>None</td>\n      <td>NGN</td>\n      <td>1795042</td>\n      <td>116</td>\n      <td>1000023</td>\n      <td>10001590056</td>\n      <td>None</td>\n      <td>None</td>\n    </tr>\n    <tr>\n      <td>2</td>\n      <td>90792400</td>\n      <td>None</td>\n      <td>12/04/2014 07:23:45 AM</td>\n      <td>07/12/2016 07:01:42 AM</td>\n      <td>None</td>\n      <td>None</td>\n      <td>direct</td>\n      <td>manual</td>\n      <td>31</td>\n      <td>None</td>\n      <td>...</td>\n      <td>0.0</td>\n      <td>None</td>\n      <td>None</td>\n      <td>THB</td>\n      <td>1966448</td>\n      <td>81</td>\n      <td>1000017</td>\n      <td>10001621954</td>\n      <td>None</td>\n      <td>None</td>\n    </tr>\n    <tr>\n      <td>3</td>\n      <td>94735450</td>\n      <td>None</td>\n      <td>03/06/2015 04:17:56 AM</td>\n      <td>01/21/2016 04:55:22 PM</td>\n      <td>None</td>\n      <td>None</td>\n      <td>direct</td>\n      <td>manual</td>\n      <td>7</td>\n      <td>None</td>\n      <td>...</td>\n      <td>0.0</td>\n      <td>None</td>\n      <td>None</td>\n      <td>USD</td>\n      <td>None</td>\n      <td>5</td>\n      <td>1000010</td>\n      <td>10000718547</td>\n      <td>None</td>\n      <td>None</td>\n    </tr>\n    <tr>\n      <td>4</td>\n      <td>95104280</td>\n      <td>None</td>\n      <td>03/16/2015 03:54:00 PM</td>\n      <td>05/17/2016 11:37:59 AM</td>\n      <td>None</td>\n      <td>None</td>\n      <td>direct</td>\n      <td>manual</td>\n      <td>45</td>\n      <td>None</td>\n      <td>...</td>\n      <td>0.0</td>\n      <td>None</td>\n      <td>None</td>\n      <td>NGN</td>\n      <td>None</td>\n      <td>118</td>\n      <td>1000023</td>\n      <td>10001596200</td>\n      <td>None</td>\n      <td>None</td>\n    </tr>\n  </tbody>\n</table>\n<p>5 rows × 48 columns</p>\n</div>"
     },
     "metadata": {},
     "output_type": "execute_result",
     "execution_count": 10
    }
   ],
   "source": [
    "df.head()"
   ],
   "metadata": {
    "collapsed": false,
    "pycharm": {
     "name": "#%%\n",
     "is_executing": false
    }
   }
  },
  {
   "cell_type": "code",
   "execution_count": null,
   "outputs": [],
   "source": [],
   "metadata": {
    "collapsed": false,
    "pycharm": {
     "name": "#%%\n"
    }
   }
  }
 ],
 "metadata": {
  "kernelspec": {
   "display_name": "Python 3",
   "language": "python",
   "name": "python3"
  },
  "language_info": {
   "codemirror_mode": {
    "name": "ipython",
    "version": 2
   },
   "file_extension": ".py",
   "mimetype": "text/x-python",
   "name": "python",
   "nbconvert_exporter": "python",
   "pygments_lexer": "ipython2",
   "version": "2.7.6"
  },
  "pycharm": {
   "stem_cell": {
    "cell_type": "raw",
    "source": [],
    "metadata": {
     "collapsed": false
    }
   }
  }
 },
 "nbformat": 4,
 "nbformat_minor": 0
}